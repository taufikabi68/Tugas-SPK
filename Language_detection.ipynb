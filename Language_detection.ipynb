{
 "cells": [
  {
   "cell_type": "code",
   "execution_count": 2,
   "id": "eab7a1b5-ddca-4494-9add-2f8ae570ceca",
   "metadata": {},
   "outputs": [
    {
     "name": "stdout",
     "output_type": "stream",
     "text": [
      "\n",
      " Language Name           Language Code           Input Sentences          \n",
      "Hindi                   hi                      मैं एक नया मोबाइल खरीदने की योजना बना रहा हूँ\n",
      "Marathi                 mr                      मी नवीन मोबाईल घेण्याचा विचार करत आहे\n",
      "Telegu                  te                      నేను కొత్త మొబైల్ కొనాలని ప్లాన్ చేస్తున్నాను\n",
      "English                 en                      I am planning to buy a new mobile\n",
      "Gujarati                gu                      હું નવો મોબાઈલ ખરીદવાનું વિચારી રહ્યો છું\n",
      "Punjabi                 pa                      ਮੈਂ ਇੱਕ ਨਵਾਂ ਮੋਬਾਈਲ ਖਰੀਦਣ ਦੀ ਯੋਜਨਾ ਬਣਾ ਰਿਹਾ ਹਾਂ\n"
     ]
    }
   ],
   "source": [
    "#Taufik Abrilianto\n",
    "#181011401890\n",
    "#07TPLM010\n",
    "#Sistem Penunjang Keputusan\n",
    "\n",
    "from langdetect import detect\n",
    "\n",
    "all_language_codes ={\n",
    "    \"en\": \"English\",\n",
    "    \"hi\": \"Hindi\",\n",
    "    \"mr\": \"Marathi\",\n",
    "    \"pa\": \"Punjabi\",\n",
    "    \"ur\": \"Urdu\",\n",
    "    \"urd\": \"Urdu\",\n",
    "    \"gu\": \"Gujarati\",\n",
    "    \"guj\": \"Gujarati\",\n",
    "    \"te\": \"Telegu\"\n",
    "\n",
    "}\n",
    "\n",
    "input_sentences = [\n",
    "    \"मैं एक नया मोबाइल खरीदने की योजना बना रहा हूँ\",\n",
    "    \"मी नवीन मोबाईल घेण्याचा विचार करत आहे\",\n",
    "    \"నేను కొత్త మొబైల్ కొనాలని ప్లాన్ చేస్తున్నాను\",\n",
    "    \"I am planning to buy a new mobile\",\n",
    "    \"હું નવો મોબાઈલ ખરીદવાનું વિચારી રહ્યો છું\",\n",
    "    \"ਮੈਂ ਇੱਕ ਨਵਾਂ ਮੋਬਾਈਲ ਖਰੀਦਣ ਦੀ ਯੋਜਨਾ ਬਣਾ ਰਿਹਾ ਹਾਂ\"\n",
    "]\n",
    "\n",
    "lemmatizer_names = [\"Language Code\",\"Input Sentences\"]\n",
    "format_text = '{:24}' *(len(lemmatizer_names)+ 1)\n",
    "print (\"\\n\", format_text.format(\"Language Name\", *lemmatizer_names), '\\n' '='*0)\n",
    "for data in input_sentences:\n",
    "    language_code = detect(data)\n",
    "    sentence = [all_language_codes.get(language_code), language_code, data]\n",
    "    print (format_text.format(*sentence))"
   ]
  },
  {
   "cell_type": "code",
   "execution_count": 3,
   "id": "05d73132-d77b-408f-9b78-0b24fae1fdd8",
   "metadata": {},
   "outputs": [
    {
     "data": {
      "text/plain": [
       "'id'"
      ]
     },
     "execution_count": 3,
     "metadata": {},
     "output_type": "execute_result"
    }
   ],
   "source": [
    "detect(\"Saya berencana untuk membeli ponsel baru\")"
   ]
  },
  {
   "cell_type": "code",
   "execution_count": null,
   "id": "e49b10a0-9a84-43d8-9742-d74ce5ef6b72",
   "metadata": {},
   "outputs": [],
   "source": []
  }
 ],
 "metadata": {
  "kernelspec": {
   "display_name": "Python 3",
   "language": "python",
   "name": "python3"
  },
  "language_info": {
   "codemirror_mode": {
    "name": "ipython",
    "version": 3
   },
   "file_extension": ".py",
   "mimetype": "text/x-python",
   "name": "python",
   "nbconvert_exporter": "python",
   "pygments_lexer": "ipython3",
   "version": "3.8.8"
  }
 },
 "nbformat": 4,
 "nbformat_minor": 5
}
